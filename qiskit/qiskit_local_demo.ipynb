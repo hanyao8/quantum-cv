{
 "cells": [
  {
   "cell_type": "code",
   "execution_count": 2,
   "id": "c1b0aec8",
   "metadata": {},
   "outputs": [],
   "source": [
    "#Jupyter notebook for local demo of qiskit. No connection to server.\n",
    "#qiskit.QuantumCircuit provides a simulation\n",
    "\n",
    "#from qiskit import QuantumCircuit"
   ]
  },
  {
   "cell_type": "code",
   "execution_count": 4,
   "id": "9435ae84",
   "metadata": {},
   "outputs": [],
   "source": [
    "# Importing standard Qiskit libraries and configuring account\n",
    "import qiskit as qk\n",
    "from qiskit import QuantumCircuit, Aer, IBMQ\n",
    "from qiskit import transpile, assemble\n",
    "from qiskit.tools.jupyter import *\n",
    "from qiskit.visualization import plot_histogram\n",
    "from math import pi\n",
    "\n",
    "from keras.datasets import mnist\n",
    "from matplotlib import pyplot"
   ]
  },
  {
   "cell_type": "code",
   "execution_count": 3,
   "id": "0b4e4554",
   "metadata": {},
   "outputs": [
    {
     "data": {
      "text/html": [
       "<pre style=\"word-wrap: normal;white-space: pre;background: #fff0;line-height: 1.1;font-family: &quot;Courier New&quot;,Courier,monospace\">     ┌───┐     ┌─┐   \n",
       "q_0: ┤ H ├──■──┤M├───\n",
       "     └───┘┌─┴─┐└╥┘┌─┐\n",
       "q_1: ─────┤ X ├─╫─┤M├\n",
       "          └───┘ ║ └╥┘\n",
       "c: 2/═══════════╩══╩═\n",
       "                0  1 </pre>"
      ],
      "text/plain": [
       "     ┌───┐     ┌─┐   \n",
       "q_0: ┤ H ├──■──┤M├───\n",
       "     └───┘┌─┴─┐└╥┘┌─┐\n",
       "q_1: ─────┤ X ├─╫─┤M├\n",
       "          └───┘ ║ └╥┘\n",
       "c: 2/═══════════╩══╩═\n",
       "                0  1 "
      ]
     },
     "execution_count": 3,
     "metadata": {},
     "output_type": "execute_result"
    }
   ],
   "source": [
    "#Bell state circuit\n",
    "#Hadamard gate generates superposition, cnot imparts entanglement.\n",
    "\n",
    "qc = QuantumCircuit(2, 2)\n",
    "qc.h(0)\n",
    "qc.cx(0, 1)\n",
    "qc.measure([0, 1], [0, 1])\n",
    "qc.draw()"
   ]
  },
  {
   "cell_type": "code",
   "execution_count": null,
   "id": "fd46305e",
   "metadata": {},
   "outputs": [],
   "source": []
  },
  {
   "cell_type": "code",
   "execution_count": null,
   "id": "e6554d74",
   "metadata": {},
   "outputs": [],
   "source": []
  },
  {
   "cell_type": "code",
   "execution_count": null,
   "id": "ad3502d6",
   "metadata": {},
   "outputs": [],
   "source": []
  },
  {
   "cell_type": "code",
   "execution_count": null,
   "id": "5b02f310",
   "metadata": {},
   "outputs": [],
   "source": []
  },
  {
   "cell_type": "code",
   "execution_count": 5,
   "id": "c4814a12",
   "metadata": {},
   "outputs": [
    {
     "data": {
      "text/html": [
       "<pre style=\"word-wrap: normal;white-space: pre;background: #fff0;line-height: 1.1;font-family: &quot;Courier New&quot;,Courier,monospace\">        ┌───┐ ░                                       ░                    »\n",
       "   q_0: ┤ H ├─░─────■──────■─────────────■────────────░──────────■──────■──»\n",
       "        ├───┤ ░     │    ┌─┴─┐         ┌─┴─┐          ░ ┌───┐    │    ┌─┴─┐»\n",
       "   q_1: ┤ H ├─░─────┼────┤ X ├────■────┤ X ├────■─────░─┤ X ├────┼────┤ X ├»\n",
       "        └───┘ ░ ┌───┴───┐└───┘┌───┴───┐└───┘┌───┴───┐ ░ └───┘┌───┴───┐└───┘»\n",
       "   q_2: ──────░─┤ Ry(0) ├─────┤ Ry(0) ├─────┤ Ry(0) ├─░──────┤ Ry(0) ├─────»\n",
       "              ░ └───────┘     └───────┘     └───────┘ ░      └───────┘     »\n",
       "meas: 3/═══════════════════════════════════════════════════════════════════»\n",
       "                                                                           »\n",
       "«                                ░ ┌───┐                                     »\n",
       "«   q_0: ───────────■────────────░─┤ X ├────■──────■─────────────■───────────»\n",
       "«                 ┌─┴─┐          ░ ├───┤    │    ┌─┴─┐         ┌─┴─┐         »\n",
       "«   q_1: ────■────┤ X ├────■─────░─┤ X ├────┼────┤ X ├────■────┤ X ├────■────»\n",
       "«        ┌───┴───┐└───┘┌───┴───┐ ░ └───┘┌───┴───┐└───┘┌───┴───┐└───┘┌───┴───┐»\n",
       "«   q_2: ┤ Ry(0) ├─────┤ Ry(0) ├─░──────┤ Ry(0) ├─────┤ Ry(0) ├─────┤ Ry(0) ├»\n",
       "«        └───────┘     └───────┘ ░      └───────┘     └───────┘     └───────┘»\n",
       "«meas: 3/════════════════════════════════════════════════════════════════════»\n",
       "«                                                                            »\n",
       "«         ░                                            ░ ┌─┐      \n",
       "«   q_0: ─░──────────■──────■─────────────■────────────░─┤M├──────\n",
       "«         ░ ┌───┐    │    ┌─┴─┐         ┌─┴─┐          ░ └╥┘┌─┐   \n",
       "«   q_1: ─░─┤ X ├────┼────┤ X ├────■────┤ X ├────■─────░──╫─┤M├───\n",
       "«         ░ └───┘┌───┴───┐└───┘┌───┴───┐└───┘┌───┴───┐ ░  ║ └╥┘┌─┐\n",
       "«   q_2: ─░──────┤ Ry(0) ├─────┤ Ry(0) ├─────┤ Ry(0) ├─░──╫──╫─┤M├\n",
       "«         ░      └───────┘     └───────┘     └───────┘ ░  ║  ║ └╥┘\n",
       "«meas: 3/═════════════════════════════════════════════════╩══╩══╩═\n",
       "«                                                         0  1  2 </pre>"
      ],
      "text/plain": [
       "        ┌───┐ ░                                       ░                    »\n",
       "   q_0: ┤ H ├─░─────■──────■─────────────■────────────░──────────■──────■──»\n",
       "        ├───┤ ░     │    ┌─┴─┐         ┌─┴─┐          ░ ┌───┐    │    ┌─┴─┐»\n",
       "   q_1: ┤ H ├─░─────┼────┤ X ├────■────┤ X ├────■─────░─┤ X ├────┼────┤ X ├»\n",
       "        └───┘ ░ ┌───┴───┐└───┘┌───┴───┐└───┘┌───┴───┐ ░ └───┘┌───┴───┐└───┘»\n",
       "   q_2: ──────░─┤ Ry(0) ├─────┤ Ry(0) ├─────┤ Ry(0) ├─░──────┤ Ry(0) ├─────»\n",
       "              ░ └───────┘     └───────┘     └───────┘ ░      └───────┘     »\n",
       "meas: 3/═══════════════════════════════════════════════════════════════════»\n",
       "                                                                           »\n",
       "«                                ░ ┌───┐                                     »\n",
       "«   q_0: ───────────■────────────░─┤ X ├────■──────■─────────────■───────────»\n",
       "«                 ┌─┴─┐          ░ ├───┤    │    ┌─┴─┐         ┌─┴─┐         »\n",
       "«   q_1: ────■────┤ X ├────■─────░─┤ X ├────┼────┤ X ├────■────┤ X ├────■────»\n",
       "«        ┌───┴───┐└───┘┌───┴───┐ ░ └───┘┌───┴───┐└───┘┌───┴───┐└───┘┌───┴───┐»\n",
       "«   q_2: ┤ Ry(0) ├─────┤ Ry(0) ├─░──────┤ Ry(0) ├─────┤ Ry(0) ├─────┤ Ry(0) ├»\n",
       "«        └───────┘     └───────┘ ░      └───────┘     └───────┘     └───────┘»\n",
       "«meas: 3/════════════════════════════════════════════════════════════════════»\n",
       "«                                                                            »\n",
       "«         ░                                            ░ ┌─┐      \n",
       "«   q_0: ─░──────────■──────■─────────────■────────────░─┤M├──────\n",
       "«         ░ ┌───┐    │    ┌─┴─┐         ┌─┴─┐          ░ └╥┘┌─┐   \n",
       "«   q_1: ─░─┤ X ├────┼────┤ X ├────■────┤ X ├────■─────░──╫─┤M├───\n",
       "«         ░ └───┘┌───┴───┐└───┘┌───┴───┐└───┘┌───┴───┐ ░  ║ └╥┘┌─┐\n",
       "«   q_2: ─░──────┤ Ry(0) ├─────┤ Ry(0) ├─────┤ Ry(0) ├─░──╫──╫─┤M├\n",
       "«         ░      └───────┘     └───────┘     └───────┘ ░  ║  ║ └╥┘\n",
       "«meas: 3/═════════════════════════════════════════════════╩══╩══╩═\n",
       "«                                                         0  1  2 "
      ]
     },
     "execution_count": 5,
     "metadata": {},
     "output_type": "execute_result"
    }
   ],
   "source": [
    "theta = 0 # all pixels black\n",
    "qc = QuantumCircuit(3)\n",
    "\n",
    "\n",
    "qc.h(0)\n",
    "qc.h(1)\n",
    "\n",
    "qc.barrier()\n",
    "#Pixel 1\n",
    "\n",
    "qc.cry(theta,0,2)\n",
    "qc.cx(0,1)\n",
    "qc.cry(-theta,1,2)\n",
    "qc.cx(0,1)\n",
    "qc.cry(theta,1,2)\n",
    "\n",
    "qc.barrier()\n",
    "#Pixel 2\n",
    "\n",
    "qc.x(1)\n",
    "qc.cry(theta,0,2)\n",
    "qc.cx(0,1)\n",
    "qc.cry(-theta,1,2)\n",
    "qc.cx(0,1)\n",
    "qc.cry(theta,1,2)\n",
    "\n",
    "qc.barrier()\n",
    "\n",
    "qc.x(1)\n",
    "qc.x(0)\n",
    "qc.cry(theta,0,2)\n",
    "qc.cx(0,1)\n",
    "qc.cry(-theta,1,2)\n",
    "qc.cx(0,1)\n",
    "qc.cry(theta,1,2)\n",
    "\n",
    "\n",
    "qc.barrier()\n",
    "\n",
    "qc.x(1)\n",
    "\n",
    "qc.cry(theta,0,2)\n",
    "qc.cx(0,1)\n",
    "qc.cry(-theta,1,2)\n",
    "qc.cx(0,1)\n",
    "qc.cry(theta,1,2)\n",
    "\n",
    "qc.measure_all()\n",
    "\n",
    "qc.draw()"
   ]
  },
  {
   "cell_type": "code",
   "execution_count": 6,
   "id": "d4b454e5",
   "metadata": {},
   "outputs": [
    {
     "name": "stdout",
     "output_type": "stream",
     "text": [
      "{'001': 1003, '010': 1075, '011': 1033, '000': 985}\n"
     ]
    },
    {
     "data": {
      "image/png": "[encoded data removed]",
      "text/plain": [
       "<Figure size 504x360 with 1 Axes>"
      ]
     },
     "execution_count": 6,
     "metadata": {},
     "output_type": "execute_result"
    }
   ],
   "source": [
    "aer_sim = Aer.get_backend('aer_simulator')\n",
    "t_qc = transpile(qc, aer_sim)\n",
    "qobj = assemble(t_qc, shots=4096)\n",
    "result = aer_sim.run(qobj).result()\n",
    "counts = result.get_counts(qc)\n",
    "print(counts)\n",
    "plot_histogram(counts)"
   ]
  },
  {
   "cell_type": "code",
   "execution_count": null,
   "id": "e8e82a1f",
   "metadata": {},
   "outputs": [],
   "source": []
  },
  {
   "cell_type": "code",
   "execution_count": 7,
   "id": "8c2dfed1",
   "metadata": {},
   "outputs": [
    {
     "data": {
      "text/html": [
       "<pre style=\"word-wrap: normal;white-space: pre;background: #fff0;line-height: 1.1;font-family: &quot;Courier New&quot;,Courier,monospace\">        ┌───┐ ░                                              ░                 »\n",
       "   q_0: ┤ H ├─░──────■───────■────────────────■──────────────░───────────■─────»\n",
       "        ├───┤ ░      │     ┌─┴─┐            ┌─┴─┐            ░ ┌───┐     │     »\n",
       "   q_1: ┤ H ├─░──────┼─────┤ X ├─────■──────┤ X ├─────■──────░─┤ X ├─────┼─────»\n",
       "        └───┘ ░ ┌────┴────┐└───┘┌────┴─────┐└───┘┌────┴────┐ ░ └───┘┌────┴────┐»\n",
       "   q_2: ──────░─┤ Ry(π/2) ├─────┤ Ry(-π/2) ├─────┤ Ry(π/2) ├─░──────┤ Ry(π/2) ├»\n",
       "              ░ └─────────┘     └──────────┘     └─────────┘ ░      └─────────┘»\n",
       "meas: 3/═══════════════════════════════════════════════════════════════════════»\n",
       "                                                                               »\n",
       "«                                          ░ ┌───┐                            »\n",
       "«   q_0: ──■────────────────■──────────────░─┤ X ├─────■───────■──────────────»\n",
       "«        ┌─┴─┐            ┌─┴─┐            ░ ├───┤     │     ┌─┴─┐            »\n",
       "«   q_1: ┤ X ├─────■──────┤ X ├─────■──────░─┤ X ├─────┼─────┤ X ├─────■──────»\n",
       "«        └───┘┌────┴─────┐└───┘┌────┴────┐ ░ └───┘┌────┴────┐└───┘┌────┴─────┐»\n",
       "«   q_2: ─────┤ Ry(-π/2) ├─────┤ Ry(π/2) ├─░──────┤ Ry(π/2) ├─────┤ Ry(-π/2) ├»\n",
       "«             └──────────┘     └─────────┘ ░      └─────────┘     └──────────┘»\n",
       "«meas: 3/═════════════════════════════════════════════════════════════════════»\n",
       "«                                                                             »\n",
       "«                         ░                                                  »\n",
       "«   q_0: ──■──────────────░───────────■───────■────────────────■─────────────»\n",
       "«        ┌─┴─┐            ░ ┌───┐     │     ┌─┴─┐            ┌─┴─┐           »\n",
       "«   q_1: ┤ X ├─────■──────░─┤ X ├─────┼─────┤ X ├─────■──────┤ X ├─────■─────»\n",
       "«        └───┘┌────┴────┐ ░ └───┘┌────┴────┐└───┘┌────┴─────┐└───┘┌────┴────┐»\n",
       "«   q_2: ─────┤ Ry(π/2) ├─░──────┤ Ry(π/2) ├─────┤ Ry(-π/2) ├─────┤ Ry(π/2) ├»\n",
       "«             └─────────┘ ░      └─────────┘     └──────────┘     └─────────┘»\n",
       "«meas: 3/════════════════════════════════════════════════════════════════════»\n",
       "«                                                                            »\n",
       "«         ░ ┌─┐      \n",
       "«   q_0: ─░─┤M├──────\n",
       "«         ░ └╥┘┌─┐   \n",
       "«   q_1: ─░──╫─┤M├───\n",
       "«         ░  ║ └╥┘┌─┐\n",
       "«   q_2: ─░──╫──╫─┤M├\n",
       "«         ░  ║  ║ └╥┘\n",
       "«meas: 3/════╩══╩══╩═\n",
       "«            0  1  2 </pre>"
      ],
      "text/plain": [
       "        ┌───┐ ░                                              ░                 »\n",
       "   q_0: ┤ H ├─░──────■───────■────────────────■──────────────░───────────■─────»\n",
       "        ├───┤ ░      │     ┌─┴─┐            ┌─┴─┐            ░ ┌───┐     │     »\n",
       "   q_1: ┤ H ├─░──────┼─────┤ X ├─────■──────┤ X ├─────■──────░─┤ X ├─────┼─────»\n",
       "        └───┘ ░ ┌────┴────┐└───┘┌────┴─────┐└───┘┌────┴────┐ ░ └───┘┌────┴────┐»\n",
       "   q_2: ──────░─┤ Ry(π/2) ├─────┤ Ry(-π/2) ├─────┤ Ry(π/2) ├─░──────┤ Ry(π/2) ├»\n",
       "              ░ └─────────┘     └──────────┘     └─────────┘ ░      └─────────┘»\n",
       "meas: 3/═══════════════════════════════════════════════════════════════════════»\n",
       "                                                                               »\n",
       "«                                          ░ ┌───┐                            »\n",
       "«   q_0: ──■────────────────■──────────────░─┤ X ├─────■───────■──────────────»\n",
       "«        ┌─┴─┐            ┌─┴─┐            ░ ├───┤     │     ┌─┴─┐            »\n",
       "«   q_1: ┤ X ├─────■──────┤ X ├─────■──────░─┤ X ├─────┼─────┤ X ├─────■──────»\n",
       "«        └───┘┌────┴─────┐└───┘┌────┴────┐ ░ └───┘┌────┴────┐└───┘┌────┴─────┐»\n",
       "«   q_2: ─────┤ Ry(-π/2) ├─────┤ Ry(π/2) ├─░──────┤ Ry(π/2) ├─────┤ Ry(-π/2) ├»\n",
       "«             └──────────┘     └─────────┘ ░      └─────────┘     └──────────┘»\n",
       "«meas: 3/═════════════════════════════════════════════════════════════════════»\n",
       "«                                                                             »\n",
       "«                         ░                                                  »\n",
       "«   q_0: ──■──────────────░───────────■───────■────────────────■─────────────»\n",
       "«        ┌─┴─┐            ░ ┌───┐     │     ┌─┴─┐            ┌─┴─┐           »\n",
       "«   q_1: ┤ X ├─────■──────░─┤ X ├─────┼─────┤ X ├─────■──────┤ X ├─────■─────»\n",
       "«        └───┘┌────┴────┐ ░ └───┘┌────┴────┐└───┘┌────┴─────┐└───┘┌────┴────┐»\n",
       "«   q_2: ─────┤ Ry(π/2) ├─░──────┤ Ry(π/2) ├─────┤ Ry(-π/2) ├─────┤ Ry(π/2) ├»\n",
       "«             └─────────┘ ░      └─────────┘     └──────────┘     └─────────┘»\n",
       "«meas: 3/════════════════════════════════════════════════════════════════════»\n",
       "«                                                                            »\n",
       "«         ░ ┌─┐      \n",
       "«   q_0: ─░─┤M├──────\n",
       "«         ░ └╥┘┌─┐   \n",
       "«   q_1: ─░──╫─┤M├───\n",
       "«         ░  ║ └╥┘┌─┐\n",
       "«   q_2: ─░──╫──╫─┤M├\n",
       "«         ░  ║  ║ └╥┘\n",
       "«meas: 3/════╩══╩══╩═\n",
       "«            0  1  2 "
      ]
     },
     "execution_count": 7,
     "metadata": {},
     "output_type": "execute_result"
    }
   ],
   "source": [
    "theta = pi/2  # all pixels white\n",
    "qc1 = QuantumCircuit(3)\n",
    "\n",
    "qc1.h(0)\n",
    "qc1.h(1)\n",
    "\n",
    "qc1.barrier()\n",
    "#Pixel 1\n",
    "\n",
    "qc1.cry(theta,0,2)\n",
    "qc1.cx(0,1)\n",
    "qc1.cry(-theta,1,2)\n",
    "qc1.cx(0,1)\n",
    "qc1.cry(theta,1,2)\n",
    "\n",
    "qc1.barrier()\n",
    "#Pixel 2\n",
    "\n",
    "qc1.x(1)\n",
    "\n",
    "qc1.cry(theta,0,2)\n",
    "qc1.cx(0,1)\n",
    "qc1.cry(-theta,1,2)\n",
    "qc1.cx(0,1)\n",
    "qc1.cry(theta,1,2)\n",
    "\n",
    "qc1.barrier()\n",
    "\n",
    "qc1.x(1)\n",
    "qc1.x(0)\n",
    "qc1.cry(theta,0,2)\n",
    "qc1.cx(0,1)\n",
    "qc1.cry(-theta,1,2)\n",
    "qc1.cx(0,1)\n",
    "qc1.cry(theta,1,2)\n",
    "\n",
    "\n",
    "qc1.barrier()\n",
    "\n",
    "qc1.x(1)\n",
    "\n",
    "qc1.cry(theta,0,2)\n",
    "qc1.cx(0,1)\n",
    "qc1.cry(-theta,1,2)\n",
    "qc1.cx(0,1)\n",
    "qc1.cry(theta,1,2)\n",
    "\n",
    "qc1.measure_all()\n",
    "\n",
    "qc1.draw()"
   ]
  },
  {
   "cell_type": "code",
   "execution_count": 8,
   "id": "dc1404fe",
   "metadata": {},
   "outputs": [
    {
     "name": "stdout",
     "output_type": "stream",
     "text": [
      "{'100': 1059, '111': 990, '101': 1030, '110': 1017}\n"
     ]
    },
    {
     "data": {
      "image/png": "[encoded data removed]",
      "text/plain": [
       "<Figure size 504x360 with 1 Axes>"
      ]
     },
     "execution_count": 8,
     "metadata": {},
     "output_type": "execute_result"
    }
   ],
   "source": [
    "aer_sim = Aer.get_backend('aer_simulator')\n",
    "t_qc1 = transpile(qc1, aer_sim)\n",
    "qobj = assemble(t_qc1, shots=4096)\n",
    "result = aer_sim.run(qobj).result()\n",
    "counts = result.get_counts(qc1)\n",
    "print(counts)\n",
    "plot_histogram(counts)"
   ]
  },
  {
   "cell_type": "code",
   "execution_count": null,
   "id": "a6e1a79c",
   "metadata": {},
   "outputs": [],
   "source": []
  },
  {
   "cell_type": "code",
   "execution_count": null,
   "id": "32527e46",
   "metadata": {},
   "outputs": [],
   "source": []
  },
  {
   "cell_type": "code",
   "execution_count": 84,
   "id": "544de38b",
   "metadata": {},
   "outputs": [
    {
     "data": {
      "text/html": [
       "<pre style=\"word-wrap: normal;white-space: pre;background: #fff0;line-height: 1.1;font-family: &quot;Courier New&quot;,Courier,monospace\">        ┌───┐ ░                                              ░                 »\n",
       "   q_0: ┤ H ├─░──────■───────■────────────────■──────────────░───────────■─────»\n",
       "        ├───┤ ░      │     ┌─┴─┐            ┌─┴─┐            ░ ┌───┐     │     »\n",
       "   q_1: ┤ H ├─░──────┼─────┤ X ├─────■──────┤ X ├─────■──────░─┤ X ├─────┼─────»\n",
       "        └───┘ ░ ┌────┴────┐└───┘┌────┴─────┐└───┘┌────┴────┐ ░ └───┘┌────┴────┐»\n",
       "   q_2: ──────░─┤ Ry(π/4) ├─────┤ Ry(-π/4) ├─────┤ Ry(π/4) ├─░──────┤ Ry(π/4) ├»\n",
       "              ░ └─────────┘     └──────────┘     └─────────┘ ░      └─────────┘»\n",
       "meas: 3/═══════════════════════════════════════════════════════════════════════»\n",
       "                                                                               »\n",
       "«                                          ░ ┌───┐                            »\n",
       "«   q_0: ──■────────────────■──────────────░─┤ X ├─────■───────■──────────────»\n",
       "«        ┌─┴─┐            ┌─┴─┐            ░ ├───┤     │     ┌─┴─┐            »\n",
       "«   q_1: ┤ X ├─────■──────┤ X ├─────■──────░─┤ X ├─────┼─────┤ X ├─────■──────»\n",
       "«        └───┘┌────┴─────┐└───┘┌────┴────┐ ░ └───┘┌────┴────┐└───┘┌────┴─────┐»\n",
       "«   q_2: ─────┤ Ry(-π/4) ├─────┤ Ry(π/4) ├─░──────┤ Ry(π/4) ├─────┤ Ry(-π/4) ├»\n",
       "«             └──────────┘     └─────────┘ ░      └─────────┘     └──────────┘»\n",
       "«meas: 3/═════════════════════════════════════════════════════════════════════»\n",
       "«                                                                             »\n",
       "«                         ░                                                  »\n",
       "«   q_0: ──■──────────────░───────────■───────■────────────────■─────────────»\n",
       "«        ┌─┴─┐            ░ ┌───┐     │     ┌─┴─┐            ┌─┴─┐           »\n",
       "«   q_1: ┤ X ├─────■──────░─┤ X ├─────┼─────┤ X ├─────■──────┤ X ├─────■─────»\n",
       "«        └───┘┌────┴────┐ ░ └───┘┌────┴────┐└───┘┌────┴─────┐└───┘┌────┴────┐»\n",
       "«   q_2: ─────┤ Ry(π/4) ├─░──────┤ Ry(π/4) ├─────┤ Ry(-π/4) ├─────┤ Ry(π/4) ├»\n",
       "«             └─────────┘ ░      └─────────┘     └──────────┘     └─────────┘»\n",
       "«meas: 3/════════════════════════════════════════════════════════════════════»\n",
       "«                                                                            »\n",
       "«         ░ ┌─┐      \n",
       "«   q_0: ─░─┤M├──────\n",
       "«         ░ └╥┘┌─┐   \n",
       "«   q_1: ─░──╫─┤M├───\n",
       "«         ░  ║ └╥┘┌─┐\n",
       "«   q_2: ─░──╫──╫─┤M├\n",
       "«         ░  ║  ║ └╥┘\n",
       "«meas: 3/════╩══╩══╩═\n",
       "«            0  1  2 </pre>"
      ],
      "text/plain": [
       "        ┌───┐ ░                                              ░                 »\n",
       "   q_0: ┤ H ├─░──────■───────■────────────────■──────────────░───────────■─────»\n",
       "        ├───┤ ░      │     ┌─┴─┐            ┌─┴─┐            ░ ┌───┐     │     »\n",
       "   q_1: ┤ H ├─░──────┼─────┤ X ├─────■──────┤ X ├─────■──────░─┤ X ├─────┼─────»\n",
       "        └───┘ ░ ┌────┴────┐└───┘┌────┴─────┐└───┘┌────┴────┐ ░ └───┘┌────┴────┐»\n",
       "   q_2: ──────░─┤ Ry(π/4) ├─────┤ Ry(-π/4) ├─────┤ Ry(π/4) ├─░──────┤ Ry(π/4) ├»\n",
       "              ░ └─────────┘     └──────────┘     └─────────┘ ░      └─────────┘»\n",
       "meas: 3/═══════════════════════════════════════════════════════════════════════»\n",
       "                                                                               »\n",
       "«                                          ░ ┌───┐                            »\n",
       "«   q_0: ──■────────────────■──────────────░─┤ X ├─────■───────■──────────────»\n",
       "«        ┌─┴─┐            ┌─┴─┐            ░ ├───┤     │     ┌─┴─┐            »\n",
       "«   q_1: ┤ X ├─────■──────┤ X ├─────■──────░─┤ X ├─────┼─────┤ X ├─────■──────»\n",
       "«        └───┘┌────┴─────┐└───┘┌────┴────┐ ░ └───┘┌────┴────┐└───┘┌────┴─────┐»\n",
       "«   q_2: ─────┤ Ry(-π/4) ├─────┤ Ry(π/4) ├─░──────┤ Ry(π/4) ├─────┤ Ry(-π/4) ├»\n",
       "«             └──────────┘     └─────────┘ ░      └─────────┘     └──────────┘»\n",
       "«meas: 3/═════════════════════════════════════════════════════════════════════»\n",
       "«                                                                             »\n",
       "«                         ░                                                  »\n",
       "«   q_0: ──■──────────────░───────────■───────■────────────────■─────────────»\n",
       "«        ┌─┴─┐            ░ ┌───┐     │     ┌─┴─┐            ┌─┴─┐           »\n",
       "«   q_1: ┤ X ├─────■──────░─┤ X ├─────┼─────┤ X ├─────■──────┤ X ├─────■─────»\n",
       "«        └───┘┌────┴────┐ ░ └───┘┌────┴────┐└───┘┌────┴─────┐└───┘┌────┴────┐»\n",
       "«   q_2: ─────┤ Ry(π/4) ├─░──────┤ Ry(π/4) ├─────┤ Ry(-π/4) ├─────┤ Ry(π/4) ├»\n",
       "«             └─────────┘ ░      └─────────┘     └──────────┘     └─────────┘»\n",
       "«meas: 3/════════════════════════════════════════════════════════════════════»\n",
       "«                                                                            »\n",
       "«         ░ ┌─┐      \n",
       "«   q_0: ─░─┤M├──────\n",
       "«         ░ └╥┘┌─┐   \n",
       "«   q_1: ─░──╫─┤M├───\n",
       "«         ░  ║ └╥┘┌─┐\n",
       "«   q_2: ─░──╫──╫─┤M├\n",
       "«         ░  ║  ║ └╥┘\n",
       "«meas: 3/════╩══╩══╩═\n",
       "«            0  1  2 "
      ]
     },
     "execution_count": 84,
     "metadata": {},
     "output_type": "execute_result"
    }
   ],
   "source": [
    "theta = pi/4  # all pixels white\n",
    "qc2 = qk.QuantumCircuit(3)\n",
    "\n",
    "qc2.h(0)\n",
    "qc2.h(1)\n",
    "\n",
    "qc2.barrier()\n",
    "#Pixel 1\n",
    "\n",
    "qc2.cry(theta,0,2)\n",
    "qc2.cx(0,1)\n",
    "qc2.cry(-theta,1,2)\n",
    "qc2.cx(0,1)\n",
    "qc2.cry(theta,1,2)\n",
    "\n",
    "qc2.barrier()\n",
    "#Pixel 2\n",
    "\n",
    "qc2.x(1)\n",
    "\n",
    "qc2.cry(theta,0,2)\n",
    "qc2.cx(0,1)\n",
    "qc2.cry(-theta,1,2)\n",
    "qc2.cx(0,1)\n",
    "qc2.cry(theta,1,2)\n",
    "\n",
    "qc2.barrier()\n",
    "\n",
    "qc2.x(1)\n",
    "qc2.x(0)\n",
    "qc2.cry(theta,0,2)\n",
    "qc2.cx(0,1)\n",
    "qc2.cry(-theta,1,2)\n",
    "qc2.cx(0,1)\n",
    "qc2.cry(theta,1,2)\n",
    "\n",
    "\n",
    "qc2.barrier()\n",
    "\n",
    "qc2.x(1)\n",
    "\n",
    "qc2.cry(theta,0,2)\n",
    "qc2.cx(0,1)\n",
    "qc2.cry(-theta,1,2)\n",
    "qc2.cx(0,1)\n",
    "qc2.cry(theta,1,2)\n",
    "\n",
    "qc2.measure_all()\n",
    "\n",
    "qc2.draw()"
   ]
  },
  {
   "cell_type": "code",
   "execution_count": null,
   "id": "ab540810",
   "metadata": {},
   "outputs": [],
   "source": []
  },
  {
   "cell_type": "code",
   "execution_count": 74,
   "id": "1c10e47a",
   "metadata": {},
   "outputs": [
    {
     "data": {
      "text/html": [
       "<pre style=\"word-wrap: normal;white-space: pre;background: #fff0;line-height: 1.1;font-family: &quot;Courier New&quot;,Courier,monospace\">        ┌───┐ ░                                       ░                      »\n",
       "   q_0: ┤ H ├─░─────■──────■─────────────■────────────░───────────■───────■──»\n",
       "        ├───┤ ░     │    ┌─┴─┐         ┌─┴─┐          ░ ┌───┐     │     ┌─┴─┐»\n",
       "   q_1: ┤ H ├─░─────┼────┤ X ├────■────┤ X ├────■─────░─┤ X ├─────┼─────┤ X ├»\n",
       "        └───┘ ░ ┌───┴───┐└───┘┌───┴───┐└───┘┌───┴───┐ ░ └───┘┌────┴────┐└───┘»\n",
       "   q_2: ──────░─┤ Ry(0) ├─────┤ Ry(0) ├─────┤ Ry(0) ├─░──────┤ Ry(π/6) ├─────»\n",
       "              ░ └───────┘     └───────┘     └───────┘ ░      └─────────┘     »\n",
       "meas: 3/═════════════════════════════════════════════════════════════════════»\n",
       "                                                                             »\n",
       "«                                     ░ ┌───┐                                 »\n",
       "«   q_0: ──────────────■──────────────░─┤ X ├─────■───────■────────────────■──»\n",
       "«                    ┌─┴─┐            ░ ├───┤     │     ┌─┴─┐            ┌─┴─┐»\n",
       "«   q_1: ─────■──────┤ X ├─────■──────░─┤ X ├─────┼─────┤ X ├─────■──────┤ X ├»\n",
       "«        ┌────┴─────┐└───┘┌────┴────┐ ░ └───┘┌────┴────┐└───┘┌────┴─────┐└───┘»\n",
       "«   q_2: ┤ Ry(-π/6) ├─────┤ Ry(π/6) ├─░──────┤ Ry(π/3) ├─────┤ Ry(-π/3) ├─────»\n",
       "«        └──────────┘     └─────────┘ ░      └─────────┘     └──────────┘     »\n",
       "«meas: 3/═════════════════════════════════════════════════════════════════════»\n",
       "«                                                                             »\n",
       "«                    ░                                                   ░ ┌─┐»\n",
       "«   q_0: ────────────░───────────■───────■────────────────■──────────────░─┤M├»\n",
       "«                    ░ ┌───┐     │     ┌─┴─┐            ┌─┴─┐            ░ └╥┘»\n",
       "«   q_1: ─────■──────░─┤ X ├─────┼─────┤ X ├─────■──────┤ X ├─────■──────░──╫─»\n",
       "«        ┌────┴────┐ ░ └───┘┌────┴────┐└───┘┌────┴─────┐└───┘┌────┴────┐ ░  ║ »\n",
       "«   q_2: ┤ Ry(π/3) ├─░──────┤ Ry(π/2) ├─────┤ Ry(-π/2) ├─────┤ Ry(π/2) ├─░──╫─»\n",
       "«        └─────────┘ ░      └─────────┘     └──────────┘     └─────────┘ ░  ║ »\n",
       "«meas: 3/═══════════════════════════════════════════════════════════════════╩═»\n",
       "«                                                                           0 »\n",
       "«              \n",
       "«   q_0: ──────\n",
       "«        ┌─┐   \n",
       "«   q_1: ┤M├───\n",
       "«        └╥┘┌─┐\n",
       "«   q_2: ─╫─┤M├\n",
       "«         ║ └╥┘\n",
       "«meas: 3/═╩══╩═\n",
       "«         1  2 </pre>"
      ],
      "text/plain": [
       "        ┌───┐ ░                                       ░                      »\n",
       "   q_0: ┤ H ├─░─────■──────■─────────────■────────────░───────────■───────■──»\n",
       "        ├───┤ ░     │    ┌─┴─┐         ┌─┴─┐          ░ ┌───┐     │     ┌─┴─┐»\n",
       "   q_1: ┤ H ├─░─────┼────┤ X ├────■────┤ X ├────■─────░─┤ X ├─────┼─────┤ X ├»\n",
       "        └───┘ ░ ┌───┴───┐└───┘┌───┴───┐└───┘┌───┴───┐ ░ └───┘┌────┴────┐└───┘»\n",
       "   q_2: ──────░─┤ Ry(0) ├─────┤ Ry(0) ├─────┤ Ry(0) ├─░──────┤ Ry(π/6) ├─────»\n",
       "              ░ └───────┘     └───────┘     └───────┘ ░      └─────────┘     »\n",
       "meas: 3/═════════════════════════════════════════════════════════════════════»\n",
       "                                                                             »\n",
       "«                                     ░ ┌───┐                                 »\n",
       "«   q_0: ──────────────■──────────────░─┤ X ├─────■───────■────────────────■──»\n",
       "«                    ┌─┴─┐            ░ ├───┤     │     ┌─┴─┐            ┌─┴─┐»\n",
       "«   q_1: ─────■──────┤ X ├─────■──────░─┤ X ├─────┼─────┤ X ├─────■──────┤ X ├»\n",
       "«        ┌────┴─────┐└───┘┌────┴────┐ ░ └───┘┌────┴────┐└───┘┌────┴─────┐└───┘»\n",
       "«   q_2: ┤ Ry(-π/6) ├─────┤ Ry(π/6) ├─░──────┤ Ry(π/3) ├─────┤ Ry(-π/3) ├─────»\n",
       "«        └──────────┘     └─────────┘ ░      └─────────┘     └──────────┘     »\n",
       "«meas: 3/═════════════════════════════════════════════════════════════════════»\n",
       "«                                                                             »\n",
       "«                    ░                                                   ░ ┌─┐»\n",
       "«   q_0: ────────────░───────────■───────■────────────────■──────────────░─┤M├»\n",
       "«                    ░ ┌───┐     │     ┌─┴─┐            ┌─┴─┐            ░ └╥┘»\n",
       "«   q_1: ─────■──────░─┤ X ├─────┼─────┤ X ├─────■──────┤ X ├─────■──────░──╫─»\n",
       "«        ┌────┴────┐ ░ └───┘┌────┴────┐└───┘┌────┴─────┐└───┘┌────┴────┐ ░  ║ »\n",
       "«   q_2: ┤ Ry(π/3) ├─░──────┤ Ry(π/2) ├─────┤ Ry(-π/2) ├─────┤ Ry(π/2) ├─░──╫─»\n",
       "«        └─────────┘ ░      └─────────┘     └──────────┘     └─────────┘ ░  ║ »\n",
       "«meas: 3/═══════════════════════════════════════════════════════════════════╩═»\n",
       "«                                                                           0 »\n",
       "«              \n",
       "«   q_0: ──────\n",
       "«        ┌─┐   \n",
       "«   q_1: ┤M├───\n",
       "«        └╥┘┌─┐\n",
       "«   q_2: ─╫─┤M├\n",
       "«         ║ └╥┘\n",
       "«meas: 3/═╩══╩═\n",
       "«         1  2 "
      ]
     },
     "execution_count": 74,
     "metadata": {},
     "output_type": "execute_result"
    }
   ],
   "source": [
    "theta = 0  # all pixels white\n",
    "qc2 = qk.QuantumCircuit(3)\n",
    "\n",
    "qc2.h(0)\n",
    "qc2.h(1)\n",
    "\n",
    "qc2.barrier()\n",
    "#Pixel 1\n",
    "\n",
    "theta = 0\n",
    "\n",
    "qc2.cry(theta,0,2)\n",
    "qc2.cx(0,1)\n",
    "qc2.cry(-theta,1,2)\n",
    "qc2.cx(0,1)\n",
    "qc2.cry(theta,1,2)\n",
    "\n",
    "qc2.barrier()\n",
    "#Pixel 2\n",
    "\n",
    "theta = pi/6\n",
    "\n",
    "qc2.x(1)\n",
    "\n",
    "qc2.cry(theta,0,2)\n",
    "qc2.cx(0,1)\n",
    "qc2.cry(-theta,1,2)\n",
    "qc2.cx(0,1)\n",
    "qc2.cry(theta,1,2)\n",
    "\n",
    "qc2.barrier()\n",
    "\n",
    "theta = pi/3\n",
    "\n",
    "qc2.x(1)\n",
    "qc2.x(0)\n",
    "qc2.cry(theta,0,2)\n",
    "qc2.cx(0,1)\n",
    "qc2.cry(-theta,1,2)\n",
    "qc2.cx(0,1)\n",
    "qc2.cry(theta,1,2)\n",
    "\n",
    "\n",
    "qc2.barrier()\n",
    "\n",
    "theta = pi/2\n",
    "\n",
    "qc2.x(1)\n",
    "\n",
    "qc2.cry(theta,0,2)\n",
    "qc2.cx(0,1)\n",
    "qc2.cry(-theta,1,2)\n",
    "qc2.cx(0,1)\n",
    "qc2.cry(theta,1,2)\n",
    "\n",
    "qc2.measure_all()\n",
    "\n",
    "qc2.draw()"
   ]
  },
  {
   "cell_type": "code",
   "execution_count": 85,
   "id": "27adf79f",
   "metadata": {},
   "outputs": [
    {
     "name": "stdout",
     "output_type": "stream",
     "text": [
      "{'101': 483, '110': 534, '100': 529, '001': 557, '111': 490, '011': 517, '010': 506, '000': 480}\n"
     ]
    },
    {
     "data": {
      "image/png": "[encoded data removed]",
      "text/plain": [
       "<Figure size 504x360 with 1 Axes>"
      ]
     },
     "execution_count": 85,
     "metadata": {},
     "output_type": "execute_result"
    }
   ],
   "source": [
    "aer_sim = Aer.get_backend('aer_simulator')\n",
    "t_qc2 = transpile(qc2, aer_sim)\n",
    "qobj = assemble(t_qc2, shots=4096)\n",
    "result = aer_sim.run(qobj).result()\n",
    "counts = result.get_counts(qc2)\n",
    "print(counts)\n",
    "plot_histogram(counts)"
   ]
  },
  {
   "cell_type": "code",
   "execution_count": null,
   "id": "129499c4",
   "metadata": {},
   "outputs": [],
   "source": [
    "\n"
   ]
  },
  {
   "cell_type": "code",
   "execution_count": null,
   "id": "b115e884",
   "metadata": {},
   "outputs": [],
   "source": []
  },
  {
   "cell_type": "code",
   "execution_count": 78,
   "id": "4ad5e6fa",
   "metadata": {},
   "outputs": [
    {
     "data": {
      "text/plain": [
       "['111', '010', '000', '001', '110', '101']"
      ]
     },
     "execution_count": 78,
     "metadata": {},
     "output_type": "execute_result"
    }
   ],
   "source": [
    "list(counts.keys())"
   ]
  },
  {
   "cell_type": "code",
   "execution_count": 86,
   "id": "72c906f8",
   "metadata": {},
   "outputs": [
    {
     "name": "stdout",
     "output_type": "stream",
     "text": [
      "[[0.51546414 0.47733187]\n",
      " [0.50857092 0.49146435]]\n"
     ]
    },
    {
     "data": {
      "image/png": "[encoded data removed]",
      "text/plain": [
       "<Figure size 432x288 with 1 Axes>"
      ]
     },
     "metadata": {
      "needs_background": "light"
     },
     "output_type": "display_data"
    }
   ],
   "source": [
    "n = 1\n",
    "ones_count_image = np.zeros((2**n,2**n))\n",
    "total_count_image = np.zeros((2**n,2**n))\n",
    "k = 0\n",
    "for i in range(2**n):\n",
    "    for j in range(2**n):\n",
    "        b = bin(k)[2:].zfill(n+1)\n",
    "        ones_count_image[i][j] += counts['1'+b]\n",
    "        total_count_image[i][j] += counts['0'+b]\n",
    "        total_count_image[i][j] += counts['1'+b]\n",
    "        k += 1\n",
    "normed_image = np.arcsin(np.sqrt(ones_count_image/total_count_image))/(pi/2)\n",
    "print(normed_image)\n",
    "pyplot.imshow(normed_image*255, cmap=pyplot.get_cmap('gray'), vmin=0, vmax=255)\n",
    "pyplot.show()"
   ]
  },
  {
   "cell_type": "code",
   "execution_count": null,
   "id": "99f03f70",
   "metadata": {},
   "outputs": [],
   "source": []
  },
  {
   "cell_type": "code",
   "execution_count": null,
   "id": "f31ab4df",
   "metadata": {},
   "outputs": [],
   "source": []
  },
  {
   "cell_type": "code",
   "execution_count": null,
   "id": "6eb03f3f",
   "metadata": {},
   "outputs": [],
   "source": []
  },
  {
   "cell_type": "code",
   "execution_count": 21,
   "id": "e3b5c902",
   "metadata": {},
   "outputs": [],
   "source": []
  },
  {
   "cell_type": "code",
   "execution_count": 22,
   "id": "60d76443",
   "metadata": {},
   "outputs": [],
   "source": []
  },
  {
   "cell_type": "code",
   "execution_count": 30,
   "id": "4c32fbc7",
   "metadata": {},
   "outputs": [
    {
     "data": {
      "image/png": "[encoded data removed]",
      "text/plain": [
       "<Figure size 432x288 with 1 Axes>"
      ]
     },
     "metadata": {
      "needs_background": "light"
     },
     "output_type": "display_data"
    }
   ],
   "source": [
    "(train_X, train_y), (test_X, test_y) = mnist.load_data()\n",
    "mnist_sample = train_X[0]\n",
    "pyplot.imshow(mnist_sample, cmap=pyplot.get_cmap('gray'))\n",
    "pyplot.show()"
   ]
  },
  {
   "cell_type": "code",
   "execution_count": 33,
   "id": "ad728a0e",
   "metadata": {},
   "outputs": [
    {
     "data": {
      "image/png": "[encoded data removed]",
      "text/plain": [
       "<Figure size 432x288 with 1 Axes>"
      ]
     },
     "metadata": {
      "needs_background": "light"
     },
     "output_type": "display_data"
    }
   ],
   "source": [
    "sample = np.zeros((32,32))\n",
    "sample[:mnist_sample.shape[0],:mnist_sample.shape[1]] = mnist_sample\n",
    "pyplot.imshow(sample, cmap=pyplot.get_cmap('gray'))\n",
    "pyplot.show()"
   ]
  },
  {
   "cell_type": "code",
   "execution_count": null,
   "id": "990019a2",
   "metadata": {},
   "outputs": [],
   "source": []
  },
  {
   "cell_type": "code",
   "execution_count": null,
   "id": "45ae7436",
   "metadata": {},
   "outputs": [],
   "source": []
  },
  {
   "cell_type": "code",
   "execution_count": 71,
   "id": "b5ef798f",
   "metadata": {},
   "outputs": [
    {
     "data": {
      "text/html": [
       "<pre style=\"word-wrap: normal;white-space: pre;background: #fff0;line-height: 1.1;font-family: &quot;Courier New&quot;,Courier,monospace\">             \n",
       "intensity_0: \n",
       "             \n",
       "intensity_1: \n",
       "             \n",
       "intensity_2: \n",
       "             \n",
       "intensity_3: \n",
       "             \n",
       "intensity_4: \n",
       "             \n",
       "intensity_5: \n",
       "             \n",
       "intensity_6: \n",
       "             \n",
       "intensity_7: \n",
       "             \n",
       "      idx_0: \n",
       "             \n",
       "      idx_1: \n",
       "             \n",
       "      cr: 10/\n",
       "             </pre>"
      ],
      "text/plain": [
       "             \n",
       "intensity_0: \n",
       "             \n",
       "intensity_1: \n",
       "             \n",
       "intensity_2: \n",
       "             \n",
       "intensity_3: \n",
       "             \n",
       "intensity_4: \n",
       "             \n",
       "intensity_5: \n",
       "             \n",
       "intensity_6: \n",
       "             \n",
       "intensity_7: \n",
       "             \n",
       "      idx_0: \n",
       "             \n",
       "      idx_1: \n",
       "             \n",
       "      cr: 10/\n",
       "             "
      ]
     },
     "execution_count": 71,
     "metadata": {},
     "output_type": "execute_result"
    }
   ],
   "source": [
    "import numpy as np\n",
    "from qiskit import QuantumRegister, ClassicalRegister\n",
    "\n",
    "# Initialize the quantum circuit for the image \n",
    "# Pixel position\n",
    "idx = QuantumRegister(2, 'idx')\n",
    "# grayscale pixel intensity value\n",
    "intensity = QuantumRegister(8,'intensity')\n",
    "# classical register\n",
    "cr = ClassicalRegister(10, 'cr')\n",
    "\n",
    "# create the quantum circuit for the image\n",
    "qc_image = QuantumCircuit(intensity, idx, cr)\n",
    "\n",
    "# set the total number of qubits\n",
    "num_qubits = qc_image.num_qubits\n",
    "\n",
    "qc_image.draw()"
   ]
  },
  {
   "cell_type": "code",
   "execution_count": 72,
   "id": "e6d2c65f",
   "metadata": {},
   "outputs": [
    {
     "data": {
      "text/html": [
       "<pre style=\"word-wrap: normal;white-space: pre;background: #fff0;line-height: 1.1;font-family: &quot;Courier New&quot;,Courier,monospace\">             ┌───┐ ░ \n",
       "intensity_0: ┤ I ├─░─\n",
       "             ├───┤ ░ \n",
       "intensity_1: ┤ I ├─░─\n",
       "             ├───┤ ░ \n",
       "intensity_2: ┤ I ├─░─\n",
       "             ├───┤ ░ \n",
       "intensity_3: ┤ I ├─░─\n",
       "             ├───┤ ░ \n",
       "intensity_4: ┤ I ├─░─\n",
       "             ├───┤ ░ \n",
       "intensity_5: ┤ I ├─░─\n",
       "             ├───┤ ░ \n",
       "intensity_6: ┤ I ├─░─\n",
       "             ├───┤ ░ \n",
       "intensity_7: ┤ I ├─░─\n",
       "             ├───┤ ░ \n",
       "      idx_0: ┤ H ├─░─\n",
       "             ├───┤ ░ \n",
       "      idx_1: ┤ H ├─░─\n",
       "             └───┘ ░ \n",
       "      cr: 10/════════\n",
       "                     </pre>"
      ],
      "text/plain": [
       "             ┌───┐ ░ \n",
       "intensity_0: ┤ I ├─░─\n",
       "             ├───┤ ░ \n",
       "intensity_1: ┤ I ├─░─\n",
       "             ├───┤ ░ \n",
       "intensity_2: ┤ I ├─░─\n",
       "             ├───┤ ░ \n",
       "intensity_3: ┤ I ├─░─\n",
       "             ├───┤ ░ \n",
       "intensity_4: ┤ I ├─░─\n",
       "             ├───┤ ░ \n",
       "intensity_5: ┤ I ├─░─\n",
       "             ├───┤ ░ \n",
       "intensity_6: ┤ I ├─░─\n",
       "             ├───┤ ░ \n",
       "intensity_7: ┤ I ├─░─\n",
       "             ├───┤ ░ \n",
       "      idx_0: ┤ H ├─░─\n",
       "             ├───┤ ░ \n",
       "      idx_1: ┤ H ├─░─\n",
       "             └───┘ ░ \n",
       "      cr: 10/════════\n",
       "                     "
      ]
     },
     "execution_count": 72,
     "metadata": {},
     "output_type": "execute_result"
    }
   ],
   "source": [
    "# Initialize the quantum circuit\n",
    "\n",
    "# Optional: Add Identity gates to the intensity values\n",
    "for idx in range(intensity.size):\n",
    "    qc_image.i(idx)\n",
    "\n",
    "# Add Hadamard gates to the pixel positions    \n",
    "qc_image.h(8)\n",
    "qc_image.h(9)\n",
    "\n",
    "# Separate with barrier so it is easy to read later.\n",
    "qc_image.barrier()\n",
    "qc_image.draw()"
   ]
  },
  {
   "cell_type": "code",
   "execution_count": 73,
   "id": "e24486b1",
   "metadata": {},
   "outputs": [
    {
     "data": {
      "text/html": [
       "<pre style=\"word-wrap: normal;white-space: pre;background: #fff0;line-height: 1.1;font-family: &quot;Courier New&quot;,Courier,monospace\">             ┌───┐ ░ ┌───┐ ░ \n",
       "intensity_0: ┤ I ├─░─┤ I ├─░─\n",
       "             ├───┤ ░ ├───┤ ░ \n",
       "intensity_1: ┤ I ├─░─┤ I ├─░─\n",
       "             ├───┤ ░ ├───┤ ░ \n",
       "intensity_2: ┤ I ├─░─┤ I ├─░─\n",
       "             ├───┤ ░ ├───┤ ░ \n",
       "intensity_3: ┤ I ├─░─┤ I ├─░─\n",
       "             ├───┤ ░ ├───┤ ░ \n",
       "intensity_4: ┤ I ├─░─┤ I ├─░─\n",
       "             ├───┤ ░ ├───┤ ░ \n",
       "intensity_5: ┤ I ├─░─┤ I ├─░─\n",
       "             ├───┤ ░ ├───┤ ░ \n",
       "intensity_6: ┤ I ├─░─┤ I ├─░─\n",
       "             ├───┤ ░ ├───┤ ░ \n",
       "intensity_7: ┤ I ├─░─┤ I ├─░─\n",
       "             ├───┤ ░ ├───┤ ░ \n",
       "      idx_0: ┤ H ├─░─┤ I ├─░─\n",
       "             ├───┤ ░ ├───┤ ░ \n",
       "      idx_1: ┤ H ├─░─┤ I ├─░─\n",
       "             └───┘ ░ └───┘ ░ \n",
       "      cr: 10/════════════════\n",
       "                             </pre>"
      ],
      "text/plain": [
       "             ┌───┐ ░ ┌───┐ ░ \n",
       "intensity_0: ┤ I ├─░─┤ I ├─░─\n",
       "             ├───┤ ░ ├───┤ ░ \n",
       "intensity_1: ┤ I ├─░─┤ I ├─░─\n",
       "             ├───┤ ░ ├───┤ ░ \n",
       "intensity_2: ┤ I ├─░─┤ I ├─░─\n",
       "             ├───┤ ░ ├───┤ ░ \n",
       "intensity_3: ┤ I ├─░─┤ I ├─░─\n",
       "             ├───┤ ░ ├───┤ ░ \n",
       "intensity_4: ┤ I ├─░─┤ I ├─░─\n",
       "             ├───┤ ░ ├───┤ ░ \n",
       "intensity_5: ┤ I ├─░─┤ I ├─░─\n",
       "             ├───┤ ░ ├───┤ ░ \n",
       "intensity_6: ┤ I ├─░─┤ I ├─░─\n",
       "             ├───┤ ░ ├───┤ ░ \n",
       "intensity_7: ┤ I ├─░─┤ I ├─░─\n",
       "             ├───┤ ░ ├───┤ ░ \n",
       "      idx_0: ┤ H ├─░─┤ I ├─░─\n",
       "             ├───┤ ░ ├───┤ ░ \n",
       "      idx_1: ┤ H ├─░─┤ I ├─░─\n",
       "             └───┘ ░ └───┘ ░ \n",
       "      cr: 10/════════════════\n",
       "                             "
      ]
     },
     "execution_count": 73,
     "metadata": {},
     "output_type": "execute_result"
    }
   ],
   "source": [
    "# Encode the first pixel, since its value is 0, we will apply ID gates here:\n",
    "for idx in range(num_qubits):\n",
    "    qc_image.i(idx)\n",
    "\n",
    "qc_image.barrier()\n",
    "qc_image.draw()"
   ]
  },
  {
   "cell_type": "code",
   "execution_count": null,
   "id": "aa74777c",
   "metadata": {},
   "outputs": [],
   "source": []
  },
  {
   "cell_type": "code",
   "execution_count": null,
   "id": "473f1027",
   "metadata": {},
   "outputs": [],
   "source": []
  },
  {
   "cell_type": "code",
   "execution_count": null,
   "id": "b2a997ce",
   "metadata": {},
   "outputs": [],
   "source": []
  },
  {
   "cell_type": "code",
   "execution_count": null,
   "id": "5bdf43e5",
   "metadata": {},
   "outputs": [],
   "source": []
  },
  {
   "cell_type": "code",
   "execution_count": null,
   "id": "48f60e24",
   "metadata": {},
   "outputs": [],
   "source": []
  },
  {
   "cell_type": "code",
   "execution_count": null,
   "id": "52f7e0c7",
   "metadata": {},
   "outputs": [],
   "source": []
  },
  {
   "cell_type": "code",
   "execution_count": null,
   "id": "f7c88c68",
   "metadata": {},
   "outputs": [],
   "source": []
  },
  {
   "cell_type": "code",
   "execution_count": null,
   "id": "fe643deb",
   "metadata": {},
   "outputs": [],
   "source": []
  },
  {
   "cell_type": "code",
   "execution_count": null,
   "id": "b8d6a3df",
   "metadata": {},
   "outputs": [],
   "source": []
  },
  {
   "cell_type": "code",
   "execution_count": null,
   "id": "41c64ac1",
   "metadata": {},
   "outputs": [],
   "source": []
  },
  {
   "cell_type": "code",
   "execution_count": null,
   "id": "6dc76e67",
   "metadata": {},
   "outputs": [],
   "source": []
  },
  {
   "cell_type": "code",
   "execution_count": null,
   "id": "35938b9e",
   "metadata": {},
   "outputs": [],
   "source": []
  },
  {
   "cell_type": "code",
   "execution_count": null,
   "id": "0088512b",
   "metadata": {},
   "outputs": [],
   "source": []
  }
 ],
 "metadata": {
  "kernelspec": {
   "display_name": "Python 3",
   "language": "python",
   "name": "python3"
  },
  "language_info": {
   "codemirror_mode": {
    "name": "ipython",
    "version": 3
   },
   "file_extension": ".py",
   "mimetype": "text/x-python",
   "name": "python",
   "nbconvert_exporter": "python",
   "pygments_lexer": "ipython3",
   "version": "3.6.10"
  }
 },
 "nbformat": 4,
 "nbformat_minor": 5
}
